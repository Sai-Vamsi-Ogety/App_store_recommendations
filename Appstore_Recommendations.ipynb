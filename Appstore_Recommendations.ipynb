{
 "cells": [
  {
   "cell_type": "markdown",
   "metadata": {},
   "source": [
    "# Analyzing AppStore Data to gain Insights about which type of Apps people like the most\n",
    "\n",
    "Intro - We will See \n",
    "Goal - our aim is to help our developers understand what type of apps are likely to attract more users on Google Play and the App Store."
   ]
  },
  {
   "cell_type": "markdown",
   "metadata": {},
   "source": [
    "1.In order to open a csv file, We can use csv library. First we import that library/Module using import command then use .extension to access its methods.\n",
    "  2.We will be using \"reader\" method to read csv file where it takes file object as the input parameter.\n",
    "    3.It returns a reader object which we can use to convert into lists for our convinience for Pre-processing the data."
   ]
  },
  {
   "cell_type": "code",
   "execution_count": 1,
   "metadata": {},
   "outputs": [],
   "source": [
    "import csv \n",
    "\n",
    "#Exploring applestore dataset\n",
    "\n",
    "apple_store_dataset = open(\"AppleStore.csv\",encoding=\"utf8\")\n",
    "apple_store_data = csv.reader(apple_store_dataset)\n",
    "apple_store_data_lists =list(apple_store_data)\n",
    "\n",
    "\n",
    "\n",
    "\n",
    "\n"
   ]
  },
  {
   "cell_type": "markdown",
   "metadata": {},
   "source": [
    "ApplesStore.csv file contains data about apps from the Apple store as the Name Suggests.It contains information like the Ratings,Genre,No. of Downloads, Minimum age etc.\n",
    "\n",
    "This Dataset is taken from Kaggle.\n",
    "\n",
    "The Dataset can be downloaded from the following link:\n",
    "[Link](https://www.kaggle.com/ramamet4/app-store-apple-data-set-10k-apps/home)\n",
    "\n",
    "The columns in the dataset are:\n",
    "\n",
    "|Column Name| Description |\n",
    "|:--- |:---|\n",
    "|'id'| App ID|\n",
    "|'track_name'| App Name|\n",
    "|'size_bytes'| Size(In Bytes)|\n",
    "|'currency'| Currency i.e USD,Rupee etc.|\n",
    "| 'price'|Price according to the Currency|\n",
    "|'rating_count_tot'|User Rating counts (for all version)|\n",
    "|'rating_count_ver'|User Rating countsfor current version)|\n",
    "|'user_rating'|Average User Rating value (for all version)|\n",
    "|'user_rating_ver'|Average User Rating value (for current version)|\n",
    "|'ver'|Latest version code|\n",
    "|'cont_rating'|Content Rating|\n",
    "|'prime_genre'|Primary Genre|\n",
    "|'sup_devices.num'|Number of supporting devices|\n",
    "|'ipadSc_urls.num'|Number of screenshots showed for display|\n",
    "|'lang.num'|Number of supported languages|\n",
    "|\"Vpp_Lic\"|Vpp Device Based Licensing Enabled|"
   ]
  },
  {
   "cell_type": "code",
   "execution_count": 2,
   "metadata": {},
   "outputs": [],
   "source": [
    "#Function to check rows and columns \n",
    "def explore_data(dataset, start, end, rows_and_columns=False):\n",
    "    dataset_slice = dataset[start:end]    \n",
    "    for row in dataset_slice:\n",
    "        print(row)\n",
    "        print('\\n') # adds a new (empty) line after each row\n",
    "\n",
    "    if rows_and_columns:\n",
    "        print('Number of rows:', len(dataset))\n",
    "        print('Number of columns:', len(dataset[0]))"
   ]
  },
  {
   "cell_type": "code",
   "execution_count": 3,
   "metadata": {
    "scrolled": false
   },
   "outputs": [
    {
     "name": "stdout",
     "output_type": "stream",
     "text": [
      "['id', 'track_name', 'size_bytes', 'currency', 'price', 'rating_count_tot', 'rating_count_ver', 'user_rating', 'user_rating_ver', 'ver', 'cont_rating', 'prime_genre', 'sup_devices.num', 'ipadSc_urls.num', 'lang.num', 'vpp_lic']\n",
      "\n",
      "\n",
      "['284882215', 'Facebook', '389879808', 'USD', '0.0', '2974676', '212', '3.5', '3.5', '95.0', '4+', 'Social Networking', '37', '1', '29', '1']\n",
      "\n",
      "\n",
      "['389801252', 'Instagram', '113954816', 'USD', '0.0', '2161558', '1289', '4.5', '4.0', '10.23', '12+', 'Photo & Video', '37', '0', '29', '1']\n",
      "\n",
      "\n",
      "['529479190', 'Clash of Clans', '116476928', 'USD', '0.0', '2130805', '579', '4.5', '4.5', '9.24.12', '9+', 'Games', '38', '5', '18', '1']\n",
      "\n",
      "\n",
      "['420009108', 'Temple Run', '65921024', 'USD', '0.0', '1724546', '3842', '4.5', '4.0', '1.6.2', '9+', 'Games', '40', '5', '1', '1']\n",
      "\n",
      "\n",
      "Number of rows: 7198\n",
      "Number of columns: 16\n"
     ]
    }
   ],
   "source": [
    "explore_data(apple_store_data_lists,0,5, rows_and_columns=True)"
   ]
  },
  {
   "cell_type": "code",
   "execution_count": 77,
   "metadata": {},
   "outputs": [],
   "source": [
    "#function to identify duplicate names\n",
    "def find_duplicates(dataset,index):\n",
    "    dup_list = []\n",
    "    unique_list = []\n",
    "    rows = []\n",
    "    for row in dataset:\n",
    "        if row[index] in unique_list:\n",
    "            dup_list.append(row[index])\n",
    "            rows.append(row)\n",
    "        else:\n",
    "            unique_list.append(row[index])\n",
    "            \n",
    "    return dup_list,unique_list"
   ]
  },
  {
   "cell_type": "code",
   "execution_count": 10,
   "metadata": {},
   "outputs": [
    {
     "name": "stdout",
     "output_type": "stream",
     "text": [
      "['Mannequin Challenge', 'VR Roller Coaster']\n",
      "[['1178454060', 'Mannequin Challenge', '59572224', 'USD', '0.0', '105', '58', '4.0', '4.5', '1.0.1', '4+', 'Games', '38', '5', '1', '1'], ['1089824278', 'VR Roller Coaster', '240964608', 'USD', '0.0', '67', '44', '3.5', '4.0', '0.81', '4+', 'Games', '38', '0', '1', '1']]\n"
     ]
    }
   ],
   "source": [
    "duplicates,unique_list = find_duplicates(apple_store_data_lists[1:],1)\n",
    "print(duplicates)\n",
    "\n",
    "\n"
   ]
  },
  {
   "cell_type": "code",
   "execution_count": 15,
   "metadata": {},
   "outputs": [
    {
     "name": "stdout",
     "output_type": "stream",
     "text": [
      "['1173990889', 'Mannequin Challenge', '109705216', 'USD', '0.0', '668', '87', '3.0', '3.0', '1.4', '9+', 'Games', '37', '4', '1', '1']\n",
      "['1178454060', 'Mannequin Challenge', '59572224', 'USD', '0.0', '105', '58', '4.0', '4.5', '1.0.1', '4+', 'Games', '38', '5', '1', '1']\n",
      "['id', 'track_name', 'size_bytes', 'currency', 'price', 'rating_count_tot', 'rating_count_ver', 'user_rating', 'user_rating_ver', 'ver', 'cont_rating', 'prime_genre', 'sup_devices.num', 'ipadSc_urls.num', 'lang.num', 'vpp_lic']\n"
     ]
    }
   ],
   "source": [
    "for rows in apple_store_data_lists[1:]:\n",
    "    app_name = rows[1]\n",
    "    if app_name == 'Mannequin Challenge':\n",
    "        print(rows)\n",
    "print(apple_store_data_lists[0])"
   ]
  },
  {
   "cell_type": "code",
   "execution_count": 19,
   "metadata": {},
   "outputs": [],
   "source": [
    "\n",
    "def get_index(dataset,index,name):\n",
    "    res = []\n",
    "    for row in range(len(dataset)):\n",
    "        if dataset[row][index] == name:\n",
    "            res.append(row)\n",
    "            \n",
    "    return res[-1]\n",
    "            "
   ]
  },
  {
   "cell_type": "code",
   "execution_count": 20,
   "metadata": {},
   "outputs": [
    {
     "name": "stdout",
     "output_type": "stream",
     "text": [
      "['1178454060', 'Mannequin Challenge', '59572224', 'USD', '0.0', '105', '58', '4.0', '4.5', '1.0.1', '4+', 'Games', '38', '5', '1', '1']\n"
     ]
    }
   ],
   "source": [
    "row = get_index(apple_store_data_lists,1,'Mannequin Challenge')\n",
    "print(apple_store_data_lists[row])"
   ]
  },
  {
   "cell_type": "code",
   "execution_count": 21,
   "metadata": {},
   "outputs": [],
   "source": [
    "del apple_store_data_lists[row]"
   ]
  },
  {
   "cell_type": "code",
   "execution_count": 22,
   "metadata": {},
   "outputs": [
    {
     "name": "stdout",
     "output_type": "stream",
     "text": [
      "['952877179', 'VR Roller Coaster', '169523200', 'USD', '0.0', '107', '102', '3.5', '3.5', '2.0.0', '4+', 'Games', '37', '5', '1', '1']\n",
      "['1089824278', 'VR Roller Coaster', '240964608', 'USD', '0.0', '67', '44', '3.5', '4.0', '0.81', '4+', 'Games', '38', '0', '1', '1']\n",
      "['id', 'track_name', 'size_bytes', 'currency', 'price', 'rating_count_tot', 'rating_count_ver', 'user_rating', 'user_rating_ver', 'ver', 'cont_rating', 'prime_genre', 'sup_devices.num', 'ipadSc_urls.num', 'lang.num', 'vpp_lic']\n"
     ]
    }
   ],
   "source": [
    "for rows in apple_store_data_lists[1:]:\n",
    "    app_name = rows[1]\n",
    "    if app_name == 'VR Roller Coaster':\n",
    "        print(rows)\n",
    "print(apple_store_data_lists[0])"
   ]
  },
  {
   "cell_type": "code",
   "execution_count": 23,
   "metadata": {},
   "outputs": [
    {
     "name": "stdout",
     "output_type": "stream",
     "text": [
      "['1089824278', 'VR Roller Coaster', '240964608', 'USD', '0.0', '67', '44', '3.5', '4.0', '0.81', '4+', 'Games', '38', '0', '1', '1']\n"
     ]
    }
   ],
   "source": [
    "row = get_index(apple_store_data_lists,1,'VR Roller Coaster')\n",
    "print(apple_store_data_lists[row])\n"
   ]
  },
  {
   "cell_type": "code",
   "execution_count": 24,
   "metadata": {},
   "outputs": [],
   "source": [
    "del apple_store_data_lists[row]"
   ]
  },
  {
   "cell_type": "code",
   "execution_count": 26,
   "metadata": {},
   "outputs": [],
   "source": [
    "#Dataset is now clean without duolicates now we have to filter English apps and apps that are free so the next few steps will be\n",
    "# on that process\n",
    "apple_clean = apple_store_data_lists"
   ]
  },
  {
   "cell_type": "code",
   "execution_count": 27,
   "metadata": {},
   "outputs": [
    {
     "name": "stdout",
     "output_type": "stream",
     "text": [
      "['952877179', 'VR Roller Coaster', '169523200', 'USD', '0.0', '107', '102', '3.5', '3.5', '2.0.0', '4+', 'Games', '37', '5', '1', '1']\n"
     ]
    }
   ],
   "source": [
    "#Doing sanity check\n",
    "for rows in apple_store_data_lists[1:]:\n",
    "    app_name = rows[1]\n",
    "    if app_name == 'VR Roller Coaster':\n",
    "        print(rows)"
   ]
  },
  {
   "cell_type": "code",
   "execution_count": 28,
   "metadata": {},
   "outputs": [
    {
     "name": "stdout",
     "output_type": "stream",
     "text": [
      "['1173990889', 'Mannequin Challenge', '109705216', 'USD', '0.0', '668', '87', '3.0', '3.0', '1.4', '9+', 'Games', '37', '4', '1', '1']\n"
     ]
    }
   ],
   "source": [
    "for rows in apple_store_data_lists[1:]:\n",
    "    app_name = rows[1]\n",
    "    if app_name == 'Mannequin Challenge':\n",
    "        print(rows)"
   ]
  },
  {
   "cell_type": "markdown",
   "metadata": {},
   "source": [
    "As we can see above that only one row is printed so we can confirm that the above dataset is free from duplicates"
   ]
  },
  {
   "cell_type": "code",
   "execution_count": 29,
   "metadata": {},
   "outputs": [],
   "source": [
    "#function to filter apps which are free\n",
    "def free_apps(dataset,index):\n",
    "    free = []\n",
    "    not_free = []\n",
    "    for row in dataset:\n",
    "        if row[index] != '0.0':\n",
    "            not_free.append(row)\n",
    "        else:\n",
    "            free.append(row)\n",
    "    return free,not_free\n",
    "            "
   ]
  },
  {
   "cell_type": "code",
   "execution_count": 36,
   "metadata": {},
   "outputs": [
    {
     "name": "stdout",
     "output_type": "stream",
     "text": [
      "4054\n",
      "3141\n",
      "7195\n"
     ]
    }
   ],
   "source": [
    "free,not_free = free_apps(apple_clean[1:],4)\n",
    "\n",
    "print(len(free))\n",
    "print(len(not_free))\n",
    "print(len(apple_clean[1:]))"
   ]
  },
  {
   "cell_type": "code",
   "execution_count": 150,
   "metadata": {},
   "outputs": [],
   "source": [
    "def find_english_apps(dataset,index):\n",
    "    english_apps = []\n",
    "    for row in dataset:\n",
    "        name = row[index]\n",
    "        count_non_english = 0\n",
    "        for char in name:\n",
    "            if ord(char) > 127 :\n",
    "                count_non_english +=1\n",
    "        if count_non_english <= 3:\n",
    "            english_apps.append(row)\n",
    "                \n",
    "    return english_apps\n",
    "            \n",
    "            "
   ]
  },
  {
   "cell_type": "code",
   "execution_count": 151,
   "metadata": {},
   "outputs": [],
   "source": [
    "eng_free_apps_apple = find_english_apps(free[1:],1) # Final Apple store Dataset- No Duplicates,All English, All Free"
   ]
  },
  {
   "cell_type": "markdown",
   "metadata": {},
   "source": [
    "#Its hard to verify whether we filtered correctly or not so we save it to a csv and check"
   ]
  },
  {
   "cell_type": "code",
   "execution_count": 56,
   "metadata": {},
   "outputs": [],
   "source": [
    "with open('english_free_apps.csv','w',encoding=\"utf8\") as file:\n",
    "    Writer = csv.writer(file)\n",
    "    Writer.writerows(english_apps)"
   ]
  },
  {
   "cell_type": "markdown",
   "metadata": {},
   "source": [
    "After Checking the CSV file I found some English+ Non English apps:\n",
    " 429885089,QQ音乐HD,139457536,USD,0.0,224,4,3.5,5.0,5.3.1,4+,Music,24,5,3,1\n",
    "\n",
    " 593828513,天猫HD,213117952,USD,0.0,198,2,4.5,1.0,5.24.1,17+,Shopping,24,5,2,1\n",
    " \n",
    " 564818797,铁路12306,28961792,USD,0.0,177,0,2.0,0.0,2.80,4+,Travel,38,0,1,1\n",
    " \n",
    " 453691481,飞猪,148888576,USD,0.0,154,0,4.0,0.0,8.2.2,17+,Travel,37,0,1,1\n",
    " \n",
    " 686910560,UC浏览器HD,59791360,USD,0.0,78,2,4.0,5.0,3.0.1.776,17+,Utilities,24,5,1,1\n",
    " \n",
    " 586157728,火车票Pro for 12306,22281216,USD,0.00,76,4,5.0,5.0,7.3.3,4+,Travel,38,4,2,1\n",
    " \n",
    " 299029654,大辞林,210088960,USD,0.0,64,0,4.5,0.0,4.1.1,4+,Reference,37,5,2,1\n",
    " \n",
    " These are few exceptions that fail our rule (if you find more than three non-english characters you classify it as Non english  so there will be cases where there are excatly three non-english characters or less and these will be classified as English as we have seen above. we wont take these exceptions very seriously so we move on from here.)\n",
    " \n",
    " \n",
    "\n"
   ]
  },
  {
   "cell_type": "markdown",
   "metadata": {},
   "source": [
    "# so far we have removed Non-Free Apps and Non-English Apps and Duplictes from the Apple Store Dataset. Now we will do the same for Google App Store Dataset"
   ]
  },
  {
   "cell_type": "code",
   "execution_count": 61,
   "metadata": {},
   "outputs": [],
   "source": [
    "google_store_dataset = open(\"googleplaystore.csv\",encoding=\"utf8\")\n",
    "google_store_data = csv.reader(google_store_dataset)\n",
    "google_store_data_lists =list(google_store_data)\n",
    "\n",
    "\n"
   ]
  },
  {
   "cell_type": "markdown",
   "metadata": {},
   "source": [
    "googleplaystore.csv file contains data about apps from the Apple store as the Name Suggests.It contains information like the Ratings,Genre,No. of Downloads, Minimum age etc.\n",
    "\n",
    "This Dataset is taken from Kaggle.\n",
    "\n",
    "The Dataset can be downloaded from the following link:\n",
    "[Link](https://www.kaggle.com/ramamet4/app-store-apple-data-set-10k-apps/home)\n",
    "\n",
    "The columns in the dataset are:\n",
    "\n",
    "|Column Name| Description |\n",
    "|---:|---:|\n",
    "|'App'| App Name|\n",
    "|'Category'| Category the App belong to|\n",
    "|'Rating'| Overall user rating of the app |\n",
    "|'Reviews'| Number of user reviews for the app|\n",
    "|\"Size\"|Size of the app|\n",
    "|\"Installs\"|Number of user downloads/installs for the app |\n",
    "|\"Type\"| Paid or Free|\n",
    "|\"Price\"|Price of the App|\n",
    "|\"Content Rating\"|Age group the app is targeted at - Children / Mature 21+ / Adult|\n",
    "|\"Genres\"|An app can belong to multiple genres (apart from its main category). For eg, a musical family game will belong to Music, Game, Family genres.|\n",
    "|\"Last Updated\"|Date when the app was last updated on Play Store |\n",
    "|\"Current Ver\"|Current version of the app available on Play Store|\n",
    "|\"Android Ver\"|Min required Android version |\n",
    "\n"
   ]
  },
  {
   "cell_type": "code",
   "execution_count": 62,
   "metadata": {},
   "outputs": [
    {
     "name": "stdout",
     "output_type": "stream",
     "text": [
      "['App', 'Category', 'Rating', 'Reviews', 'Size', 'Installs', 'Type', 'Price', 'Content Rating', 'Genres', 'Last Updated', 'Current Ver', 'Android Ver']\n",
      "\n",
      "\n",
      "['Photo Editor & Candy Camera & Grid & ScrapBook', 'ART_AND_DESIGN', '4.1', '159', '19M', '10,000+', 'Free', '0', 'Everyone', 'Art & Design', 'January 7, 2018', '1.0.0', '4.0.3 and up']\n",
      "\n",
      "\n",
      "['Coloring book moana', 'ART_AND_DESIGN', '3.9', '967', '14M', '500,000+', 'Free', '0', 'Everyone', 'Art & Design;Pretend Play', 'January 15, 2018', '2.0.0', '4.0.3 and up']\n",
      "\n",
      "\n",
      "['U Launcher Lite – FREE Live Cool Themes, Hide Apps', 'ART_AND_DESIGN', '4.7', '87510', '8.7M', '5,000,000+', 'Free', '0', 'Everyone', 'Art & Design', 'August 1, 2018', '1.2.4', '4.0.3 and up']\n",
      "\n",
      "\n",
      "['Sketch - Draw & Paint', 'ART_AND_DESIGN', '4.5', '215644', '25M', '50,000,000+', 'Free', '0', 'Teen', 'Art & Design', 'June 8, 2018', 'Varies with device', '4.2 and up']\n",
      "\n",
      "\n",
      "Number of rows: 10842\n",
      "Number of columns: 13\n"
     ]
    }
   ],
   "source": [
    "explore_data(google_store_data_lists,0,5, rows_and_columns=True)"
   ]
  },
  {
   "cell_type": "code",
   "execution_count": 78,
   "metadata": {},
   "outputs": [
    {
     "name": "stdout",
     "output_type": "stream",
     "text": [
      "Number of Duplicate Apps :1181\n",
      "Number of Unique Apps :9660\n",
      "Total No. of Apps : 1181+9660=10841\n"
     ]
    }
   ],
   "source": [
    "duplicates,unique_lists = find_duplicates(google_store_data_lists[1:],0)\n",
    "#print(duplicates)\n",
    "#print(rows)\n",
    "print(\"Number of Duplicate Apps \"+\":\"+str(len(duplicates)))\n",
    "print(\"Number of Unique Apps \"+\":\"+str(len(unique_lists)))\n",
    "print(\"Total No. of Apps : \" +str(len(duplicates)) + \"+\"+ str(len(unique_lists)) + \"=\"+str(len(duplicates)+len(unique_lists)))\n",
    "\n"
   ]
  },
  {
   "cell_type": "markdown",
   "metadata": {},
   "source": [
    "# Now the Question is which duplicate should you delete ?\n",
    "\n",
    "We Can remove apps randomly but we can come up with some better solution.Let Us Print some duplicates to see what we can come up with."
   ]
  },
  {
   "cell_type": "code",
   "execution_count": 70,
   "metadata": {},
   "outputs": [
    {
     "name": "stdout",
     "output_type": "stream",
     "text": [
      "['Telegram', 'COMMUNICATION', '4.4', '3128250', 'Varies with device', '100,000,000+', 'Free', '0', 'Mature 17+', 'Communication', 'July 27, 2018', 'Varies with device', 'Varies with device']\n",
      "['Telegram', 'COMMUNICATION', '4.4', '3128509', 'Varies with device', '100,000,000+', 'Free', '0', 'Mature 17+', 'Communication', 'July 27, 2018', 'Varies with device', 'Varies with device']\n",
      "['Telegram', 'COMMUNICATION', '4.4', '3128611', 'Varies with device', '100,000,000+', 'Free', '0', 'Mature 17+', 'Communication', 'July 27, 2018', 'Varies with device', 'Varies with device']\n"
     ]
    }
   ],
   "source": [
    "for row in google_store_data_lists[1:]:\n",
    "    app_name = row[0]\n",
    "    if app_name == \"Telegram\":\n",
    "        print(row)"
   ]
  },
  {
   "cell_type": "markdown",
   "metadata": {},
   "source": [
    " we can see that Number of Reviews(4rth from Left) is highest for the Last row may be we can use this as a testament that this is the latest version as we can't utilize the entry for Latest Version (which is 'Varies with device'). Let's see if this hypothesis can be applied to other apps as well.Let's print some more duplicates.\n",
    " "
   ]
  },
  {
   "cell_type": "code",
   "execution_count": 71,
   "metadata": {},
   "outputs": [
    {
     "name": "stdout",
     "output_type": "stream",
     "text": [
      "['Instagram', 'SOCIAL', '4.5', '66577313', 'Varies with device', '1,000,000,000+', 'Free', '0', 'Teen', 'Social', 'July 31, 2018', 'Varies with device', 'Varies with device']\n",
      "['Instagram', 'SOCIAL', '4.5', '66577446', 'Varies with device', '1,000,000,000+', 'Free', '0', 'Teen', 'Social', 'July 31, 2018', 'Varies with device', 'Varies with device']\n",
      "['Instagram', 'SOCIAL', '4.5', '66577313', 'Varies with device', '1,000,000,000+', 'Free', '0', 'Teen', 'Social', 'July 31, 2018', 'Varies with device', 'Varies with device']\n",
      "['Instagram', 'SOCIAL', '4.5', '66509917', 'Varies with device', '1,000,000,000+', 'Free', '0', 'Teen', 'Social', 'July 31, 2018', 'Varies with device', 'Varies with device']\n"
     ]
    }
   ],
   "source": [
    "for row in google_store_data_lists[1:]:\n",
    "    app_name = row[0]\n",
    "    if app_name == \"Instagram\":\n",
    "        print(row)"
   ]
  },
  {
   "cell_type": "markdown",
   "metadata": {},
   "source": [
    "# Viola! We can use the same hypothesis here as well.Let's use this strategy to keep the current version of the app and remove it's duplicates."
   ]
  },
  {
   "cell_type": "code",
   "execution_count": 129,
   "metadata": {},
   "outputs": [],
   "source": [
    "\n",
    "def reviews_ft(dataset):\n",
    "    unique_map = {}\n",
    "    for app in unique_lists:\n",
    "        unique_map[app] = 0.0\n",
    "    for row in dataset:\n",
    "        No_of_reviews = row[3]\n",
    "        if No_of_reviews[-1] == 'M':\n",
    "            No_of_reviews = float(No_of_reviews[:-1]) * 1000000\n",
    "        else:\n",
    "            No_of_reviews = float(No_of_reviews)\n",
    "        app = row[0]\n",
    "        if app in unique_map:\n",
    "            if No_of_reviews>unique_map[app] :\n",
    "                unique_map[app] = No_of_reviews\n",
    "            \n",
    "            \n",
    "            \n",
    "    return unique_map\n",
    "    "
   ]
  },
  {
   "cell_type": "code",
   "execution_count": 130,
   "metadata": {},
   "outputs": [
    {
     "name": "stdout",
     "output_type": "stream",
     "text": [
      "3128611.0\n",
      "9660\n"
     ]
    }
   ],
   "source": [
    "reviews_map = reviews_ft(google_store_data_lists[1:])\n",
    "print(reviews_map['Telegram'])\n",
    "print(len(reviews_map))\n",
    "# we can verify that it is storing the highest review one"
   ]
  },
  {
   "cell_type": "code",
   "execution_count": 131,
   "metadata": {},
   "outputs": [],
   "source": [
    "\n",
    "def delete_duplicate_google(dataset,reviews_map):\n",
    "    clean_data = []\n",
    "    for row in dataset:\n",
    "        app_name = row[0]\n",
    "        No_of_reviews = row[3]\n",
    "        if No_of_reviews[-1] == 'M':\n",
    "            No_of_reviews = float(No_of_reviews[:-1]) * 1000000\n",
    "        else:\n",
    "            No_of_reviews = float(No_of_reviews)\n",
    "        \n",
    "        if No_of_reviews == reviews_map[app_name] and (row not in clean_data):\n",
    "            \n",
    "            clean_data.append(row)\n",
    "            \n",
    "        \n",
    "    return clean_data\n",
    "        "
   ]
  },
  {
   "cell_type": "code",
   "execution_count": 132,
   "metadata": {},
   "outputs": [
    {
     "name": "stdout",
     "output_type": "stream",
     "text": [
      "9666\n"
     ]
    }
   ],
   "source": [
    "No_Dups = delete_duplicate_google(google_store_data_lists[1:],reviews_map)\n",
    "print(len(No_Dups))"
   ]
  },
  {
   "cell_type": "markdown",
   "metadata": {},
   "source": [
    "10841 - 1181 (Total - Duplicates) = 9660. But we can see it is not quite working correctly.Let's try taking one more list to save the app name and add to the result list only if is not there in the list."
   ]
  },
  {
   "cell_type": "code",
   "execution_count": 136,
   "metadata": {},
   "outputs": [
    {
     "name": "stdout",
     "output_type": "stream",
     "text": [
      "9660\n"
     ]
    }
   ],
   "source": [
    "clean_data = []\n",
    "app_list = []\n",
    "\n",
    "for row in google_store_data_lists[1:]:\n",
    "    app = row[0]\n",
    "    N_R = row[3]\n",
    "    \n",
    "    if N_R[-1] == \"M\":\n",
    "        N_R = float(N_R[:-1])*1000000\n",
    "    else:\n",
    "        N_R = float(N_R)\n",
    "        \n",
    "    if N_R == reviews_map[app] and (app not in app_list):\n",
    "        clean_data.append(row)\n",
    "        app_list.append(app)\n",
    "        \n",
    "print(len(clean_data))"
   ]
  },
  {
   "cell_type": "markdown",
   "metadata": {},
   "source": [
    "# Viola! We can see it is giving correct result now."
   ]
  },
  {
   "cell_type": "markdown",
   "metadata": {},
   "source": [
    "# Now we will filter only English and Free Apps "
   ]
  },
  {
   "cell_type": "code",
   "execution_count": 138,
   "metadata": {},
   "outputs": [
    {
     "ename": "ValueError",
     "evalue": "could not convert string to float: '$4.99'",
     "output_type": "error",
     "traceback": [
      "\u001b[1;31m---------------------------------------------------------------------------\u001b[0m",
      "\u001b[1;31mValueError\u001b[0m                                Traceback (most recent call last)",
      "\u001b[1;32m<ipython-input-138-e7e948e60977>\u001b[0m in \u001b[0;36m<module>\u001b[1;34m\u001b[0m\n\u001b[0;32m      2\u001b[0m \u001b[1;32mfor\u001b[0m \u001b[0mrow\u001b[0m \u001b[1;32min\u001b[0m \u001b[0mclean_data\u001b[0m\u001b[1;33m:\u001b[0m\u001b[1;33m\u001b[0m\u001b[1;33m\u001b[0m\u001b[0m\n\u001b[0;32m      3\u001b[0m     \u001b[0mType\u001b[0m \u001b[1;33m=\u001b[0m \u001b[0mrow\u001b[0m\u001b[1;33m[\u001b[0m\u001b[1;36m6\u001b[0m\u001b[1;33m]\u001b[0m\u001b[1;33m\u001b[0m\u001b[1;33m\u001b[0m\u001b[0m\n\u001b[1;32m----> 4\u001b[1;33m     \u001b[0mPrice\u001b[0m \u001b[1;33m=\u001b[0m \u001b[0mfloat\u001b[0m\u001b[1;33m(\u001b[0m\u001b[0mrow\u001b[0m\u001b[1;33m[\u001b[0m\u001b[1;36m7\u001b[0m\u001b[1;33m]\u001b[0m\u001b[1;33m)\u001b[0m\u001b[1;33m\u001b[0m\u001b[1;33m\u001b[0m\u001b[0m\n\u001b[0m\u001b[0;32m      5\u001b[0m     \u001b[1;32mif\u001b[0m \u001b[0mType\u001b[0m \u001b[1;33m==\u001b[0m \u001b[1;34m\"Free\"\u001b[0m \u001b[1;32mand\u001b[0m \u001b[0mPrice\u001b[0m \u001b[1;33m==\u001b[0m \u001b[1;36m0.0\u001b[0m\u001b[1;33m:\u001b[0m\u001b[1;33m\u001b[0m\u001b[1;33m\u001b[0m\u001b[0m\n\u001b[0;32m      6\u001b[0m         \u001b[0mfree_clean\u001b[0m\u001b[1;33m.\u001b[0m\u001b[0mappend\u001b[0m\u001b[1;33m(\u001b[0m\u001b[0mrow\u001b[0m\u001b[1;33m)\u001b[0m\u001b[1;33m\u001b[0m\u001b[1;33m\u001b[0m\u001b[0m\n",
      "\u001b[1;31mValueError\u001b[0m: could not convert string to float: '$4.99'"
     ]
    }
   ],
   "source": [
    "free_clean = []\n",
    "for row in clean_data:\n",
    "    Type = row[6]\n",
    "    Price = float(row[7])\n",
    "    if Type == \"Free\" and Price == 0.0:\n",
    "        free_clean.append(row)\n",
    "        \n",
    "print(len(free_clean))\n",
    "    "
   ]
  },
  {
   "cell_type": "code",
   "execution_count": 139,
   "metadata": {},
   "outputs": [
    {
     "name": "stdout",
     "output_type": "stream",
     "text": [
      "8904\n"
     ]
    }
   ],
   "source": [
    "free_clean = []\n",
    "for row in clean_data:\n",
    "    Type = row[6]\n",
    "    if Type == \"Free\":\n",
    "        free_clean.append(row)\n",
    "        \n",
    "print(len(free_clean))\n",
    "    "
   ]
  },
  {
   "cell_type": "code",
   "execution_count": 140,
   "metadata": {},
   "outputs": [
    {
     "name": "stdout",
     "output_type": "stream",
     "text": [
      "['Photo Editor & Candy Camera & Grid & ScrapBook', 'ART_AND_DESIGN', '4.1', '159', '19M', '10,000+', 'Free', '0', 'Everyone', 'Art & Design', 'January 7, 2018', '1.0.0', '4.0.3 and up']\n",
      "\n",
      "\n",
      "['U Launcher Lite – FREE Live Cool Themes, Hide Apps', 'ART_AND_DESIGN', '4.7', '87510', '8.7M', '5,000,000+', 'Free', '0', 'Everyone', 'Art & Design', 'August 1, 2018', '1.2.4', '4.0.3 and up']\n",
      "\n",
      "\n",
      "['Sketch - Draw & Paint', 'ART_AND_DESIGN', '4.5', '215644', '25M', '50,000,000+', 'Free', '0', 'Teen', 'Art & Design', 'June 8, 2018', 'Varies with device', '4.2 and up']\n",
      "\n",
      "\n",
      "['Pixel Draw - Number Art Coloring Book', 'ART_AND_DESIGN', '4.3', '967', '2.8M', '100,000+', 'Free', '0', 'Everyone', 'Art & Design;Creativity', 'June 20, 2018', '1.1', '4.4 and up']\n",
      "\n",
      "\n",
      "['Paper flowers instructions', 'ART_AND_DESIGN', '4.4', '167', '5.6M', '50,000+', 'Free', '0', 'Everyone', 'Art & Design', 'March 26, 2017', '1.0', '2.3 and up']\n",
      "\n",
      "\n",
      "Number of rows: 8904\n",
      "Number of columns: 13\n"
     ]
    }
   ],
   "source": [
    "explore_data(free_clean, 0, 5, rows_and_columns = True)"
   ]
  },
  {
   "cell_type": "markdown",
   "metadata": {},
   "source": [
    "# Now we need to filter out English Apps"
   ]
  },
  {
   "cell_type": "code",
   "execution_count": 152,
   "metadata": {},
   "outputs": [
    {
     "name": "stdout",
     "output_type": "stream",
     "text": [
      "8863\n",
      "3219\n"
     ]
    }
   ],
   "source": [
    "eng_free_apps_google = find_english_apps(free_clean,0)\n",
    "print(len(eng_free_apps_google))\n",
    "print(len(eng_free_apps_apple))"
   ]
  },
  {
   "cell_type": "markdown",
   "metadata": {},
   "source": [
    "We have 8863 apps from Google Store and 3219 apps from Apple Store"
   ]
  },
  {
   "cell_type": "markdown",
   "metadata": {},
   "source": [
    "# Most Common Apps by Genre\n",
    "  \n",
    "  # Part One\n",
    "As we mentioned in the introduction, our aim is to determine the kinds of apps that are likely to attract more users because our revenue is highly influenced by the number of people using our apps.\n",
    "\n",
    "To minimize risks and overhead, our validation strategy for an app idea is comprised of three steps:\n",
    "\n",
    "Build a minimal Android version of the app, and add it to Google Play.\n",
    "If the app has a good response from users, we then develop it further.\n",
    "If the app is profitable after six months, we also build an iOS version of the app and add it to the App Store.\n",
    "Because our end goal is to add the app on both the App Store and Google Play, we need to find app profiles that are successful on both markets. For instance, a profile that might work well for both markets might be a productivity app that makes use of gamification.\n",
    "\n",
    "Let's begin the analysis by getting a sense of the most common genres for each market. For this, we'll build a frequency table for the prime_genre column of the App Store data set, and the Genres and Category columns of the Google Play data set.\n",
    "\n",
    " # Part Two\n",
    "We'll build two functions we can use to analyze the frequency tables:\n",
    "\n",
    "One function to generate frequency tables of Genre and find their percentages\n",
    "Another function that we can use to display the percentages in a descending order"
   ]
  },
  {
   "cell_type": "code",
   "execution_count": 187,
   "metadata": {},
   "outputs": [],
   "source": [
    "def genre_ft(dataset,index):\n",
    "    genre_map ={}\n",
    "    for row in dataset:\n",
    "        genre = row[index]\n",
    "        if genre not in genre_map:\n",
    "            genre_map[genre] = 1\n",
    "        else:\n",
    "            genre_map[genre] +=1\n",
    "    total_apps = len(dataset) \n",
    "    for key in genre_map:\n",
    "        genre_map[key] /= total_apps\n",
    "        genre_map[key] *= 100\n",
    "        \n",
    "    return genre_map\n",
    "\n",
    "        \n",
    "        "
   ]
  },
  {
   "cell_type": "code",
   "execution_count": 192,
   "metadata": {},
   "outputs": [],
   "source": [
    "def disp_ratio_sorted(a_map):\n",
    "    a_list = []\n",
    "    for i in a_map:\n",
    "        a_list.append((i,a_map[i]))\n",
    "    sorted_list = sorted(a_list, key=lambda x: x[1] , reverse = True)\n",
    "    final_list = []\n",
    "    for i in sorted_list:\n",
    "        final_list.append(i[0] + \" : \" + str(i[1]))\n",
    "    return final_list\n",
    "        \n",
    "    \n",
    "        \n",
    "     "
   ]
  },
  {
   "cell_type": "code",
   "execution_count": 193,
   "metadata": {},
   "outputs": [
    {
     "name": "stdout",
     "output_type": "stream",
     "text": [
      "Games : 58.1547064305685\n",
      "Entertainment : 7.890649269959615\n",
      "Photo & Video : 4.970487729108418\n",
      "Education : 3.6657347002174587\n",
      "Social Networking : 3.2618825722273996\n",
      "Shopping : 2.60950605778192\n",
      "Utilities : 2.516309412861137\n",
      "Sports : 2.1435228331780056\n",
      "Music : 2.050326188257223\n",
      "Health & Fitness : 2.019260639950295\n",
      "Productivity : 1.7396707051879468\n",
      "Lifestyle : 1.5843429636533086\n",
      "News : 1.3358185771978874\n",
      "Travel : 1.2426219322771046\n",
      "Finance : 1.1183597390493942\n",
      "Weather : 0.8698353525939734\n",
      "Food & Drink : 0.8077042559801181\n",
      "Reference : 0.5591798695246971\n",
      "Business : 0.5281143212177695\n",
      "Book : 0.4349176762969867\n",
      "Navigation : 0.1863932898415657\n",
      "Medical : 0.1863932898415657\n",
      "Catalogs : 0.12426219322771047\n"
     ]
    }
   ],
   "source": [
    "#Apple Store\n",
    "apple_genre_map = genre_ft(eng_free_apps_apple,11)\n",
    "apple_disp_list = disp_ratio_sorted(genre_map)\n",
    "for i in apple_disp_list:\n",
    "    print(i)"
   ]
  },
  {
   "cell_type": "markdown",
   "metadata": {},
   "source": [
    "We can see that among the free English apps, more than a half (58.16%) are games. Entertainment apps are close to 8%, followed by photo and video apps, which are close to 5%. Only 3.66% of the apps are designed for education, followed by social networking apps which amount for 3.29% of the apps in our data set.\n",
    "\n",
    "The general impression is that App Store (at least the part containing free English apps) is dominated by apps that are designed for fun (games, entertainment, photo and video, social networking, sports, music, etc.), while apps with practical purposes (education, shopping, utilities, productivity, lifestyle, etc.) are more rare. However, the fact that fun apps are the most numerous doesn't also imply that they also have the greatest number of users — More apps in the Fun Genre doesn't imply that the there are lot of users who use these. This analysis is just to see how many apps Vs Genres.\n",
    "\n",
    "Let's continue by examining the Genres and Category columns of the Google Play data set (two columns which seem to be related)."
   ]
  },
  {
   "cell_type": "code",
   "execution_count": 194,
   "metadata": {},
   "outputs": [
    {
     "name": "stdout",
     "output_type": "stream",
     "text": [
      "FAMILY : 18.898792733837304\n",
      "GAME : 9.725826469592688\n",
      "TOOLS : 8.462146000225657\n",
      "BUSINESS : 4.592124562789123\n",
      "LIFESTYLE : 3.9038700214374367\n",
      "PRODUCTIVITY : 3.8925871601038025\n",
      "FINANCE : 3.7007785174320205\n",
      "MEDICAL : 3.5315355974275078\n",
      "SPORTS : 3.396141261423897\n",
      "PERSONALIZATION : 3.317161232088458\n",
      "COMMUNICATION : 3.2381812027530184\n",
      "HEALTH_AND_FITNESS : 3.0802211440821394\n",
      "PHOTOGRAPHY : 2.944826808078529\n",
      "NEWS_AND_MAGAZINES : 2.798149610741284\n",
      "SOCIAL : 2.6627552747376737\n",
      "TRAVEL_AND_LOCAL : 2.335552296062281\n",
      "SHOPPING : 2.245289405393208\n",
      "BOOKS_AND_REFERENCE : 2.1437436533904997\n",
      "DATING : 1.8616721200496444\n",
      "VIDEO_PLAYERS : 1.7939749520478394\n",
      "MAPS_AND_NAVIGATION : 1.399074805370642\n",
      "FOOD_AND_DRINK : 1.241114746699763\n",
      "EDUCATION : 1.1621347173643235\n",
      "ENTERTAINMENT : 0.9590432133589079\n",
      "LIBRARIES_AND_DEMO : 0.9364774906916393\n",
      "AUTO_AND_VEHICLES : 0.9251946293580051\n",
      "HOUSE_AND_HOME : 0.8236488773552973\n",
      "WEATHER : 0.8010831546880289\n",
      "EVENTS : 0.7108202640189552\n",
      "PARENTING : 0.6544059573507841\n",
      "ART_AND_DESIGN : 0.6431230960171499\n",
      "COMICS : 0.6205573733498815\n",
      "BEAUTY : 0.5979916506826132\n"
     ]
    }
   ],
   "source": [
    "#Google Store\n",
    "google_genre_map = genre_ft(eng_free_apps_google,1)\n",
    "google_disp_list = disp_ratio_sorted(google_genre_map)\n",
    "\n",
    "for i in google_disp_list:\n",
    "    print(i)"
   ]
  },
  {
   "cell_type": "markdown",
   "metadata": {},
   "source": [
    "The format of both appstores are different: there are not that many apps designed for fun, and it seems that a good number of apps are designed for practical purposes (family, tools, business, lifestyle, productivity, etc.)\n",
    "\n",
    "Even so, practical apps seem to have a better representation on Google Play compared to App Store. This picture is also confirmed by the frequency table we see for the Genres column:"
   ]
  },
  {
   "cell_type": "code",
   "execution_count": 195,
   "metadata": {},
   "outputs": [
    {
     "name": "stdout",
     "output_type": "stream",
     "text": [
      "Tools : 8.450863138892023\n",
      "Entertainment : 6.070179397495204\n",
      "Education : 5.348076272142616\n",
      "Business : 4.592124562789123\n",
      "Lifestyle : 3.8925871601038025\n",
      "Productivity : 3.8925871601038025\n",
      "Finance : 3.7007785174320205\n",
      "Medical : 3.5315355974275078\n",
      "Sports : 3.463838429425702\n",
      "Personalization : 3.317161232088458\n",
      "Communication : 3.2381812027530184\n",
      "Action : 3.102786866749408\n",
      "Health & Fitness : 3.0802211440821394\n",
      "Photography : 2.944826808078529\n",
      "News & Magazines : 2.798149610741284\n",
      "Social : 2.6627552747376737\n",
      "Travel & Local : 2.324269434728647\n",
      "Shopping : 2.245289405393208\n",
      "Books & Reference : 2.1437436533904997\n",
      "Simulation : 2.042197901387792\n",
      "Dating : 1.8616721200496444\n",
      "Arcade : 1.8503892587160102\n",
      "Video Players & Editors : 1.771409229380571\n",
      "Casual : 1.7601263680469368\n",
      "Maps & Navigation : 1.399074805370642\n",
      "Food & Drink : 1.241114746699763\n",
      "Puzzle : 1.128286133363421\n",
      "Racing : 0.9928917973598104\n",
      "Libraries & Demo : 0.9364774906916393\n",
      "Role Playing : 0.9364774906916393\n",
      "Auto & Vehicles : 0.9251946293580051\n",
      "Strategy : 0.9026289066907368\n",
      "House & Home : 0.8236488773552973\n",
      "Weather : 0.8010831546880289\n",
      "Events : 0.7108202640189552\n",
      "Adventure : 0.6769716800180525\n",
      "Comics : 0.6092745120162473\n",
      "Art & Design : 0.5979916506826132\n",
      "Beauty : 0.5979916506826132\n",
      "Parenting : 0.4964458986799052\n",
      "Card : 0.4513144533453684\n",
      "Casino : 0.42874873067809993\n",
      "Trivia : 0.4174658693444658\n",
      "Educational;Education : 0.3949001466771973\n",
      "Board : 0.38361728534356315\n",
      "Educational : 0.37233442400992894\n",
      "Education;Education : 0.33848584000902626\n",
      "Word : 0.25950581067358686\n",
      "Casual;Pretend Play : 0.2369400880063184\n",
      "Music : 0.20309150400541578\n",
      "Entertainment;Music & Video : 0.16924292000451313\n",
      "Puzzle;Brain Games : 0.16924292000451313\n",
      "Racing;Action & Adventure : 0.16924292000451313\n",
      "Casual;Brain Games : 0.1353943360036105\n",
      "Casual;Action & Adventure : 0.1353943360036105\n",
      "Arcade;Action & Adventure : 0.1241114746699763\n",
      "Action;Action & Adventure : 0.10154575200270789\n",
      "Educational;Pretend Play : 0.09026289066907367\n",
      "Entertainment;Brain Games : 0.07898002933543948\n",
      "Simulation;Action & Adventure : 0.07898002933543948\n",
      "Board;Brain Games : 0.07898002933543948\n",
      "Parenting;Education : 0.07898002933543948\n",
      "Art & Design;Creativity : 0.06769716800180525\n",
      "Educational;Brain Games : 0.06769716800180525\n",
      "Casual;Creativity : 0.06769716800180525\n",
      "Parenting;Music & Video : 0.06769716800180525\n",
      "Education;Pretend Play : 0.05641430666817105\n",
      "Education;Creativity : 0.045131445334536835\n",
      "Role Playing;Pretend Play : 0.045131445334536835\n",
      "Education;Brain Games : 0.033848584000902626\n",
      "Entertainment;Creativity : 0.033848584000902626\n",
      "Educational;Creativity : 0.033848584000902626\n",
      "Adventure;Action & Adventure : 0.033848584000902626\n",
      "Role Playing;Action & Adventure : 0.033848584000902626\n",
      "Educational;Action & Adventure : 0.033848584000902626\n",
      "Entertainment;Action & Adventure : 0.033848584000902626\n",
      "Puzzle;Action & Adventure : 0.033848584000902626\n",
      "Education;Action & Adventure : 0.033848584000902626\n",
      "Education;Music & Video : 0.033848584000902626\n",
      "Casual;Education : 0.022565722667268417\n",
      "Music;Music & Video : 0.022565722667268417\n",
      "Simulation;Pretend Play : 0.022565722667268417\n",
      "Puzzle;Creativity : 0.022565722667268417\n",
      "Sports;Action & Adventure : 0.022565722667268417\n",
      "Board;Action & Adventure : 0.022565722667268417\n",
      "Entertainment;Pretend Play : 0.022565722667268417\n",
      "Video Players & Editors;Music & Video : 0.022565722667268417\n",
      "Comics;Creativity : 0.011282861333634209\n",
      "Lifestyle;Pretend Play : 0.011282861333634209\n",
      "Art & Design;Pretend Play : 0.011282861333634209\n",
      "Entertainment;Education : 0.011282861333634209\n",
      "Arcade;Pretend Play : 0.011282861333634209\n",
      "Art & Design;Action & Adventure : 0.011282861333634209\n",
      "Strategy;Action & Adventure : 0.011282861333634209\n",
      "Music & Audio;Music & Video : 0.011282861333634209\n",
      "Health & Fitness;Education : 0.011282861333634209\n",
      "Casual;Music & Video : 0.011282861333634209\n",
      "Travel & Local;Action & Adventure : 0.011282861333634209\n",
      "Tools;Education : 0.011282861333634209\n",
      "Parenting;Brain Games : 0.011282861333634209\n",
      "Video Players & Editors;Creativity : 0.011282861333634209\n",
      "Health & Fitness;Action & Adventure : 0.011282861333634209\n",
      "Trivia;Education : 0.011282861333634209\n",
      "Lifestyle;Education : 0.011282861333634209\n",
      "Card;Action & Adventure : 0.011282861333634209\n",
      "Books & Reference;Education : 0.011282861333634209\n",
      "Simulation;Education : 0.011282861333634209\n",
      "Puzzle;Education : 0.011282861333634209\n",
      "Adventure;Education : 0.011282861333634209\n",
      "Role Playing;Brain Games : 0.011282861333634209\n",
      "Strategy;Education : 0.011282861333634209\n",
      "Racing;Pretend Play : 0.011282861333634209\n",
      "Communication;Creativity : 0.011282861333634209\n",
      "Strategy;Creativity : 0.011282861333634209\n"
     ]
    }
   ],
   "source": [
    "google_genre_map = genre_ft(eng_free_apps_google,-4)\n",
    "google_disp_list = disp_ratio_sorted(google_genre_map)\n",
    "\n",
    "for i in google_disp_list:\n",
    "    print(i)"
   ]
  },
  {
   "cell_type": "markdown",
   "metadata": {},
   "source": [
    "We can see that Genre column in Apple store is more specific and granular.We are trying to understand the big picture so we will stick with Category Column and skip this Genre Column.\n",
    "we found that the App Store is dominated by apps designed for fun, while Google Play shows a more balanced landscape of both practical and for-fun apps. Now we'd like to get an idea about the kind of apps that have most users."
   ]
  },
  {
   "cell_type": "markdown",
   "metadata": {},
   "source": [
    "# Genre Vs No_of_installs\n",
    "One way to find out what genres are the most popular (have the most users) is to calculate the average number of installs for each app genre. For the Google Play data set, we can find this information in the Installs column, but this information is missing for the App Store data set. As a workaround, we'll take the total number of user ratings as a proxy."
   ]
  },
  {
   "cell_type": "code",
   "execution_count": null,
   "metadata": {},
   "outputs": [],
   "source": []
  }
 ],
 "metadata": {
  "kernelspec": {
   "display_name": "Python 3",
   "language": "python",
   "name": "python3"
  },
  "language_info": {
   "codemirror_mode": {
    "name": "ipython",
    "version": 3
   },
   "file_extension": ".py",
   "mimetype": "text/x-python",
   "name": "python",
   "nbconvert_exporter": "python",
   "pygments_lexer": "ipython3",
   "version": "3.7.3"
  }
 },
 "nbformat": 4,
 "nbformat_minor": 2
}
